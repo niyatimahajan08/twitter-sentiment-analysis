{
 "cells": [
  {
   "cell_type": "markdown",
   "metadata": {
    "id": "1c3Qh1e4eUvj"
   },
   "source": [
    "#Twitter Sentiment Analysis"
   ]
  },
  {
   "cell_type": "code",
   "execution_count": 1,
   "metadata": {
    "colab": {
     "base_uri": "https://localhost:8080/"
    },
    "executionInfo": {
     "elapsed": 26277,
     "status": "ok",
     "timestamp": 1756662518190,
     "user": {
      "displayName": "Dev Tank",
      "userId": "14291956237008237666"
     },
     "user_tz": -330
    },
    "id": "fYHGYUGbflyO",
    "outputId": "0e2fc652-144f-402d-e058-b64c59944554"
   },
   "outputs": [
    {
     "name": "stdout",
     "output_type": "stream",
     "text": [
      "Mounted at /content/drive\n"
     ]
    }
   ],
   "source": [
    "from google.colab import drive\n",
    "drive.mount('/content/drive')"
   ]
  },
  {
   "cell_type": "code",
   "execution_count": 9,
   "metadata": {
    "colab": {
     "base_uri": "https://localhost:8080/"
    },
    "executionInfo": {
     "elapsed": 9074,
     "status": "ok",
     "timestamp": 1756662801373,
     "user": {
      "displayName": "Dev Tank",
      "userId": "14291956237008237666"
     },
     "user_tz": -330
    },
    "id": "zo69KsC9P7J4",
    "outputId": "c3c850ff-e04e-42d8-c750-926aaf7f6733"
   },
   "outputs": [
    {
     "name": "stdout",
     "output_type": "stream",
     "text": [
      "Collecting emoji\n",
      "  Downloading emoji-2.14.1-py3-none-any.whl.metadata (5.7 kB)\n",
      "Downloading emoji-2.14.1-py3-none-any.whl (590 kB)\n",
      "\u001b[?25l   \u001b[90m━━━━━━━━━━━━━━━━━━━━━━━━━━━━━━━━━━━━━━━━\u001b[0m \u001b[32m0.0/590.6 kB\u001b[0m \u001b[31m?\u001b[0m eta \u001b[36m-:--:--\u001b[0m\r\u001b[2K   \u001b[91m━━━━━━━━━━━━━━━━━━━━━━━━━━━━━━━━━━━━━━━\u001b[0m\u001b[91m╸\u001b[0m \u001b[32m583.7/590.6 kB\u001b[0m \u001b[31m20.4 MB/s\u001b[0m eta \u001b[36m0:00:01\u001b[0m\r\u001b[2K   \u001b[90m━━━━━━━━━━━━━━━━━━━━━━━━━━━━━━━━━━━━━━━━\u001b[0m \u001b[32m590.6/590.6 kB\u001b[0m \u001b[31m13.7 MB/s\u001b[0m eta \u001b[36m0:00:00\u001b[0m\n",
      "\u001b[?25hInstalling collected packages: emoji\n",
      "Successfully installed emoji-2.14.1\n"
     ]
    }
   ],
   "source": [
    "!pip install emoji"
   ]
  },
  {
   "cell_type": "code",
   "execution_count": 2,
   "metadata": {
    "executionInfo": {
     "elapsed": 1296,
     "status": "ok",
     "timestamp": 1756662519371,
     "user": {
      "displayName": "Dev Tank",
      "userId": "14291956237008237666"
     },
     "user_tz": -330
    },
    "id": "1IrwXDFGbaiM"
   },
   "outputs": [],
   "source": [
    "import pandas as pd\n",
    "\n",
    "from sklearn.feature_extraction.text import TfidfVectorizer\n",
    "from sklearn.model_selection import train_test_split\n",
    "from sklearn.naive_bayes import BernoulliNB\n",
    "from sklearn.linear_model import LogisticRegression\n",
    "from sklearn.svm import LinearSVC\n",
    "from sklearn.metrics import accuracy_score, classification_report\n",
    "\n",
    "import re"
   ]
  },
  {
   "cell_type": "markdown",
   "metadata": {
    "id": "YuvN6lT6ear6"
   },
   "source": [
    "## Load Sentiment140 data"
   ]
  },
  {
   "cell_type": "code",
   "execution_count": 3,
   "metadata": {
    "colab": {
     "base_uri": "https://localhost:8080/"
    },
    "executionInfo": {
     "elapsed": 7897,
     "status": "ok",
     "timestamp": 1756662527271,
     "user": {
      "displayName": "Dev Tank",
      "userId": "14291956237008237666"
     },
     "user_tz": -330
    },
    "id": "Zo59rsWHbeQ7",
    "outputId": "7a9c7883-ae87-449c-e1db-24f088727d51"
   },
   "outputs": [
    {
     "name": "stdout",
     "output_type": "stream",
     "text": [
      "   polarity                                               text\n",
      "0         0  @switchfoot http://twitpic.com/2y1zl - Awww, t...\n",
      "1         0  is upset that he can't update his Facebook by ...\n",
      "2         0  @Kenichan I dived many times for the ball. Man...\n",
      "3         0    my whole body feels itchy and like its on fire \n",
      "4         0  @nationwideclass no, it's not behaving at all....\n"
     ]
    }
   ],
   "source": [
    "df = pd.read_csv('/content/drive/MyDrive/Colab Notebooks/twitter_dataset.csv', encoding='latin-1', header=None)\n",
    "df = df[[0, 5]]\n",
    "df.columns = ['polarity', 'text']\n",
    "print(df.head())"
   ]
  },
  {
   "cell_type": "markdown",
   "metadata": {
    "id": "d8d13d18"
   },
   "source": [
    "## Data Preprocessing"
   ]
  },
  {
   "cell_type": "code",
   "execution_count": 4,
   "metadata": {
    "colab": {
     "base_uri": "https://localhost:8080/"
    },
    "executionInfo": {
     "elapsed": 60,
     "status": "ok",
     "timestamp": 1756662527324,
     "user": {
      "displayName": "Dev Tank",
      "userId": "14291956237008237666"
     },
     "user_tz": -330
    },
    "id": "LRDeFWDpbkKj",
    "outputId": "72de7434-1728-43cb-96db-261f05b349a6"
   },
   "outputs": [
    {
     "name": "stdout",
     "output_type": "stream",
     "text": [
      "polarity\n",
      "0    800000\n",
      "1    800000\n",
      "Name: count, dtype: int64\n"
     ]
    }
   ],
   "source": [
    "# Keep only positive (4) and negative (0)\n",
    "df = df[df.polarity != 2]\n",
    "df['polarity'] = df['polarity'].map({0: 0, 4: 1})\n",
    "print(df['polarity'].value_counts())"
   ]
  },
  {
   "cell_type": "code",
   "execution_count": 5,
   "metadata": {
    "colab": {
     "base_uri": "https://localhost:8080/"
    },
    "executionInfo": {
     "elapsed": 3085,
     "status": "ok",
     "timestamp": 1756662530412,
     "user": {
      "displayName": "Dev Tank",
      "userId": "14291956237008237666"
     },
     "user_tz": -330
    },
    "id": "eb4d2641",
    "outputId": "e81517b1-34ab-40a0-d387-4728e168ee31"
   },
   "outputs": [
    {
     "name": "stderr",
     "output_type": "stream",
     "text": [
      "[nltk_data] Downloading package punkt to /root/nltk_data...\n",
      "[nltk_data]   Unzipping tokenizers/punkt.zip.\n",
      "[nltk_data] Downloading package wordnet to /root/nltk_data...\n",
      "[nltk_data] Downloading package stopwords to /root/nltk_data...\n",
      "[nltk_data]   Unzipping corpora/stopwords.zip.\n"
     ]
    },
    {
     "data": {
      "text/plain": [
       "True"
      ]
     },
     "execution_count": 5,
     "metadata": {},
     "output_type": "execute_result"
    }
   ],
   "source": [
    "import nltk\n",
    "nltk.download('punkt')\n",
    "nltk.download('wordnet')\n",
    "nltk.download('stopwords')"
   ]
  },
  {
   "cell_type": "code",
   "execution_count": 6,
   "metadata": {
    "colab": {
     "base_uri": "https://localhost:8080/"
    },
    "executionInfo": {
     "elapsed": 437,
     "status": "ok",
     "timestamp": 1756662530860,
     "user": {
      "displayName": "Dev Tank",
      "userId": "14291956237008237666"
     },
     "user_tz": -330
    },
    "id": "k6jqAuJWdrRK",
    "outputId": "6621bf3a-897a-4660-d26f-6a3263c0003d"
   },
   "outputs": [
    {
     "name": "stderr",
     "output_type": "stream",
     "text": [
      "[nltk_data] Downloading package punkt_tab to /root/nltk_data...\n",
      "[nltk_data]   Unzipping tokenizers/punkt_tab.zip.\n"
     ]
    },
    {
     "data": {
      "text/plain": [
       "True"
      ]
     },
     "execution_count": 6,
     "metadata": {},
     "output_type": "execute_result"
    }
   ],
   "source": [
    "import nltk\n",
    "nltk.download('punkt_tab')"
   ]
  },
  {
   "cell_type": "code",
   "execution_count": 10,
   "metadata": {
    "colab": {
     "base_uri": "https://localhost:8080/"
    },
    "executionInfo": {
     "elapsed": 511710,
     "status": "ok",
     "timestamp": 1756663319675,
     "user": {
      "displayName": "Dev Tank",
      "userId": "14291956237008237666"
     },
     "user_tz": -330
    },
    "id": "vNGEvpNK1kRO",
    "outputId": "a8300e04-5955-42d3-fbe9-0a56c05d00b6"
   },
   "outputs": [
    {
     "name": "stdout",
     "output_type": "stream",
     "text": [
      "                                                text  \\\n",
      "0  @switchfoot http://twitpic.com/2y1zl - Awww, t...   \n",
      "1  is upset that he can't update his Facebook by ...   \n",
      "2  @Kenichan I dived many times for the ball. Man...   \n",
      "3    my whole body feels itchy and like its on fire    \n",
      "4  @nationwideclass no, it's not behaving at all....   \n",
      "\n",
      "                                          clean_text  \n",
      "0  user url url that bummer shoulda got david car...  \n",
      "1  upset cant updat facebook text might cri resul...  \n",
      "2  user dive mani time ball manag save 50 rest go...  \n",
      "3                    whole bodi feel itchi like fire  \n",
      "4                      user notbehav im mad cant see  \n"
     ]
    }
   ],
   "source": [
    "import re\n",
    "import string\n",
    "import nltk\n",
    "from nltk.stem import WordNetLemmatizer, PorterStemmer\n",
    "from nltk.corpus import stopwords\n",
    "from nltk.tokenize import word_tokenize\n",
    "from joblib import Parallel, delayed\n",
    "import multiprocessing\n",
    "from emoji import demojize\n",
    "\n",
    "# --- Setup ---\n",
    "lemmatizer = WordNetLemmatizer()\n",
    "stemmer = PorterStemmer()\n",
    "stop_words = set(stopwords.words('english'))\n",
    "\n",
    "# Precompile regex (single pattern)\n",
    "pattern = re.compile(\n",
    "    r'(@\\w+)'                # mentions\n",
    "    r'|(#\\w+)'               # hashtags\n",
    "    r'|(http\\S+|www\\S+)'     # URLs\n",
    "    r'|(\\b(?:not|n\\'t|never|no)\\s+\\w+)'  # negations\n",
    ")\n",
    "\n",
    "# Translation table for fast punctuation removal\n",
    "punct_table = str.maketrans('', '', string.punctuation)\n",
    "\n",
    "def replace_tokens(match):\n",
    "    if match.group(1):  # mention\n",
    "        return ' <USER> '\n",
    "    elif match.group(2):  # hashtag\n",
    "        return ' <HASHTAG> '\n",
    "    elif match.group(3):  # URL\n",
    "        return ' <URL> '\n",
    "    elif match.group(4):  # negation\n",
    "        return match.group(4).replace(' ', '_')\n",
    "    return ''\n",
    "\n",
    "def clean_text(text):\n",
    "    text = text.lower()\n",
    "    text = demojize(text)  # optional: 🙂 -> :slightly_smiling_face:\n",
    "    text = pattern.sub(replace_tokens, text)\n",
    "    text = text.translate(punct_table)  # remove punctuation efficiently\n",
    "\n",
    "    tokens = word_tokenize(text)\n",
    "    tokens = [\n",
    "        stemmer.stem(lemmatizer.lemmatize(word))\n",
    "        for word in tokens\n",
    "        if word not in stop_words\n",
    "    ]\n",
    "    return ' '.join(tokens)\n",
    "\n",
    "# Apply in parallel\n",
    "num_cores = multiprocessing.cpu_count()\n",
    "df['clean_text'] = Parallel(n_jobs=num_cores)(\n",
    "    delayed(clean_text)(text) for text in df['text']\n",
    ")\n",
    "\n",
    "print(df[['text', 'clean_text']].head())"
   ]
  },
  {
   "cell_type": "code",
   "execution_count": 11,
   "metadata": {
    "executionInfo": {
     "elapsed": 6744,
     "status": "ok",
     "timestamp": 1756663326416,
     "user": {
      "displayName": "Dev Tank",
      "userId": "14291956237008237666"
     },
     "user_tz": -330
    },
    "id": "bDWqH2cPgg94"
   },
   "outputs": [],
   "source": [
    "df.to_csv(\"/content/drive/MyDrive/Colab Notebooks/twitter_cleaned_dataset.csv\", index = False)"
   ]
  },
  {
   "cell_type": "code",
   "execution_count": 12,
   "metadata": {
    "colab": {
     "base_uri": "https://localhost:8080/",
     "height": 206
    },
    "executionInfo": {
     "elapsed": 4270,
     "status": "ok",
     "timestamp": 1756663330689,
     "user": {
      "displayName": "Dev Tank",
      "userId": "14291956237008237666"
     },
     "user_tz": -330
    },
    "id": "tpm44kDpmpIH",
    "outputId": "58c3b7cd-aee0-472b-d353-da6ec339e75f"
   },
   "outputs": [
    {
     "data": {
      "application/vnd.google.colaboratory.intrinsic+json": {
       "type": "dataframe",
       "variable_name": "df"
      },
      "text/html": [
       "\n",
       "  <div id=\"df-0971c6b7-fa45-41a3-8e53-911288aa0cae\" class=\"colab-df-container\">\n",
       "    <div>\n",
       "<style scoped>\n",
       "    .dataframe tbody tr th:only-of-type {\n",
       "        vertical-align: middle;\n",
       "    }\n",
       "\n",
       "    .dataframe tbody tr th {\n",
       "        vertical-align: top;\n",
       "    }\n",
       "\n",
       "    .dataframe thead th {\n",
       "        text-align: right;\n",
       "    }\n",
       "</style>\n",
       "<table border=\"1\" class=\"dataframe\">\n",
       "  <thead>\n",
       "    <tr style=\"text-align: right;\">\n",
       "      <th></th>\n",
       "      <th>polarity</th>\n",
       "      <th>text</th>\n",
       "      <th>clean_text</th>\n",
       "    </tr>\n",
       "  </thead>\n",
       "  <tbody>\n",
       "    <tr>\n",
       "      <th>0</th>\n",
       "      <td>0</td>\n",
       "      <td>@switchfoot http://twitpic.com/2y1zl - Awww, t...</td>\n",
       "      <td>user url url that bummer shoulda got david car...</td>\n",
       "    </tr>\n",
       "    <tr>\n",
       "      <th>1</th>\n",
       "      <td>0</td>\n",
       "      <td>is upset that he can't update his Facebook by ...</td>\n",
       "      <td>upset cant updat facebook text might cri resul...</td>\n",
       "    </tr>\n",
       "    <tr>\n",
       "      <th>2</th>\n",
       "      <td>0</td>\n",
       "      <td>@Kenichan I dived many times for the ball. Man...</td>\n",
       "      <td>user dive mani time ball manag save 50 rest go...</td>\n",
       "    </tr>\n",
       "    <tr>\n",
       "      <th>3</th>\n",
       "      <td>0</td>\n",
       "      <td>my whole body feels itchy and like its on fire</td>\n",
       "      <td>whole bodi feel itchi like fire</td>\n",
       "    </tr>\n",
       "    <tr>\n",
       "      <th>4</th>\n",
       "      <td>0</td>\n",
       "      <td>@nationwideclass no, it's not behaving at all....</td>\n",
       "      <td>user notbehav im mad cant see</td>\n",
       "    </tr>\n",
       "  </tbody>\n",
       "</table>\n",
       "</div>\n",
       "    <div class=\"colab-df-buttons\">\n",
       "\n",
       "  <div class=\"colab-df-container\">\n",
       "    <button class=\"colab-df-convert\" onclick=\"convertToInteractive('df-0971c6b7-fa45-41a3-8e53-911288aa0cae')\"\n",
       "            title=\"Convert this dataframe to an interactive table.\"\n",
       "            style=\"display:none;\">\n",
       "\n",
       "  <svg xmlns=\"http://www.w3.org/2000/svg\" height=\"24px\" viewBox=\"0 -960 960 960\">\n",
       "    <path d=\"M120-120v-720h720v720H120Zm60-500h600v-160H180v160Zm220 220h160v-160H400v160Zm0 220h160v-160H400v160ZM180-400h160v-160H180v160Zm440 0h160v-160H620v160ZM180-180h160v-160H180v160Zm440 0h160v-160H620v160Z\"/>\n",
       "  </svg>\n",
       "    </button>\n",
       "\n",
       "  <style>\n",
       "    .colab-df-container {\n",
       "      display:flex;\n",
       "      gap: 12px;\n",
       "    }\n",
       "\n",
       "    .colab-df-convert {\n",
       "      background-color: #E8F0FE;\n",
       "      border: none;\n",
       "      border-radius: 50%;\n",
       "      cursor: pointer;\n",
       "      display: none;\n",
       "      fill: #1967D2;\n",
       "      height: 32px;\n",
       "      padding: 0 0 0 0;\n",
       "      width: 32px;\n",
       "    }\n",
       "\n",
       "    .colab-df-convert:hover {\n",
       "      background-color: #E2EBFA;\n",
       "      box-shadow: 0px 1px 2px rgba(60, 64, 67, 0.3), 0px 1px 3px 1px rgba(60, 64, 67, 0.15);\n",
       "      fill: #174EA6;\n",
       "    }\n",
       "\n",
       "    .colab-df-buttons div {\n",
       "      margin-bottom: 4px;\n",
       "    }\n",
       "\n",
       "    [theme=dark] .colab-df-convert {\n",
       "      background-color: #3B4455;\n",
       "      fill: #D2E3FC;\n",
       "    }\n",
       "\n",
       "    [theme=dark] .colab-df-convert:hover {\n",
       "      background-color: #434B5C;\n",
       "      box-shadow: 0px 1px 3px 1px rgba(0, 0, 0, 0.15);\n",
       "      filter: drop-shadow(0px 1px 2px rgba(0, 0, 0, 0.3));\n",
       "      fill: #FFFFFF;\n",
       "    }\n",
       "  </style>\n",
       "\n",
       "    <script>\n",
       "      const buttonEl =\n",
       "        document.querySelector('#df-0971c6b7-fa45-41a3-8e53-911288aa0cae button.colab-df-convert');\n",
       "      buttonEl.style.display =\n",
       "        google.colab.kernel.accessAllowed ? 'block' : 'none';\n",
       "\n",
       "      async function convertToInteractive(key) {\n",
       "        const element = document.querySelector('#df-0971c6b7-fa45-41a3-8e53-911288aa0cae');\n",
       "        const dataTable =\n",
       "          await google.colab.kernel.invokeFunction('convertToInteractive',\n",
       "                                                    [key], {});\n",
       "        if (!dataTable) return;\n",
       "\n",
       "        const docLinkHtml = 'Like what you see? Visit the ' +\n",
       "          '<a target=\"_blank\" href=https://colab.research.google.com/notebooks/data_table.ipynb>data table notebook</a>'\n",
       "          + ' to learn more about interactive tables.';\n",
       "        element.innerHTML = '';\n",
       "        dataTable['output_type'] = 'display_data';\n",
       "        await google.colab.output.renderOutput(dataTable, element);\n",
       "        const docLink = document.createElement('div');\n",
       "        docLink.innerHTML = docLinkHtml;\n",
       "        element.appendChild(docLink);\n",
       "      }\n",
       "    </script>\n",
       "  </div>\n",
       "\n",
       "\n",
       "    <div id=\"df-449deefc-750a-4846-b9e4-7e107700bac5\">\n",
       "      <button class=\"colab-df-quickchart\" onclick=\"quickchart('df-449deefc-750a-4846-b9e4-7e107700bac5')\"\n",
       "                title=\"Suggest charts\"\n",
       "                style=\"display:none;\">\n",
       "\n",
       "<svg xmlns=\"http://www.w3.org/2000/svg\" height=\"24px\"viewBox=\"0 0 24 24\"\n",
       "     width=\"24px\">\n",
       "    <g>\n",
       "        <path d=\"M19 3H5c-1.1 0-2 .9-2 2v14c0 1.1.9 2 2 2h14c1.1 0 2-.9 2-2V5c0-1.1-.9-2-2-2zM9 17H7v-7h2v7zm4 0h-2V7h2v10zm4 0h-2v-4h2v4z\"/>\n",
       "    </g>\n",
       "</svg>\n",
       "      </button>\n",
       "\n",
       "<style>\n",
       "  .colab-df-quickchart {\n",
       "      --bg-color: #E8F0FE;\n",
       "      --fill-color: #1967D2;\n",
       "      --hover-bg-color: #E2EBFA;\n",
       "      --hover-fill-color: #174EA6;\n",
       "      --disabled-fill-color: #AAA;\n",
       "      --disabled-bg-color: #DDD;\n",
       "  }\n",
       "\n",
       "  [theme=dark] .colab-df-quickchart {\n",
       "      --bg-color: #3B4455;\n",
       "      --fill-color: #D2E3FC;\n",
       "      --hover-bg-color: #434B5C;\n",
       "      --hover-fill-color: #FFFFFF;\n",
       "      --disabled-bg-color: #3B4455;\n",
       "      --disabled-fill-color: #666;\n",
       "  }\n",
       "\n",
       "  .colab-df-quickchart {\n",
       "    background-color: var(--bg-color);\n",
       "    border: none;\n",
       "    border-radius: 50%;\n",
       "    cursor: pointer;\n",
       "    display: none;\n",
       "    fill: var(--fill-color);\n",
       "    height: 32px;\n",
       "    padding: 0;\n",
       "    width: 32px;\n",
       "  }\n",
       "\n",
       "  .colab-df-quickchart:hover {\n",
       "    background-color: var(--hover-bg-color);\n",
       "    box-shadow: 0 1px 2px rgba(60, 64, 67, 0.3), 0 1px 3px 1px rgba(60, 64, 67, 0.15);\n",
       "    fill: var(--button-hover-fill-color);\n",
       "  }\n",
       "\n",
       "  .colab-df-quickchart-complete:disabled,\n",
       "  .colab-df-quickchart-complete:disabled:hover {\n",
       "    background-color: var(--disabled-bg-color);\n",
       "    fill: var(--disabled-fill-color);\n",
       "    box-shadow: none;\n",
       "  }\n",
       "\n",
       "  .colab-df-spinner {\n",
       "    border: 2px solid var(--fill-color);\n",
       "    border-color: transparent;\n",
       "    border-bottom-color: var(--fill-color);\n",
       "    animation:\n",
       "      spin 1s steps(1) infinite;\n",
       "  }\n",
       "\n",
       "  @keyframes spin {\n",
       "    0% {\n",
       "      border-color: transparent;\n",
       "      border-bottom-color: var(--fill-color);\n",
       "      border-left-color: var(--fill-color);\n",
       "    }\n",
       "    20% {\n",
       "      border-color: transparent;\n",
       "      border-left-color: var(--fill-color);\n",
       "      border-top-color: var(--fill-color);\n",
       "    }\n",
       "    30% {\n",
       "      border-color: transparent;\n",
       "      border-left-color: var(--fill-color);\n",
       "      border-top-color: var(--fill-color);\n",
       "      border-right-color: var(--fill-color);\n",
       "    }\n",
       "    40% {\n",
       "      border-color: transparent;\n",
       "      border-right-color: var(--fill-color);\n",
       "      border-top-color: var(--fill-color);\n",
       "    }\n",
       "    60% {\n",
       "      border-color: transparent;\n",
       "      border-right-color: var(--fill-color);\n",
       "    }\n",
       "    80% {\n",
       "      border-color: transparent;\n",
       "      border-right-color: var(--fill-color);\n",
       "      border-bottom-color: var(--fill-color);\n",
       "    }\n",
       "    90% {\n",
       "      border-color: transparent;\n",
       "      border-bottom-color: var(--fill-color);\n",
       "    }\n",
       "  }\n",
       "</style>\n",
       "\n",
       "      <script>\n",
       "        async function quickchart(key) {\n",
       "          const quickchartButtonEl =\n",
       "            document.querySelector('#' + key + ' button');\n",
       "          quickchartButtonEl.disabled = true;  // To prevent multiple clicks.\n",
       "          quickchartButtonEl.classList.add('colab-df-spinner');\n",
       "          try {\n",
       "            const charts = await google.colab.kernel.invokeFunction(\n",
       "                'suggestCharts', [key], {});\n",
       "          } catch (error) {\n",
       "            console.error('Error during call to suggestCharts:', error);\n",
       "          }\n",
       "          quickchartButtonEl.classList.remove('colab-df-spinner');\n",
       "          quickchartButtonEl.classList.add('colab-df-quickchart-complete');\n",
       "        }\n",
       "        (() => {\n",
       "          let quickchartButtonEl =\n",
       "            document.querySelector('#df-449deefc-750a-4846-b9e4-7e107700bac5 button');\n",
       "          quickchartButtonEl.style.display =\n",
       "            google.colab.kernel.accessAllowed ? 'block' : 'none';\n",
       "        })();\n",
       "      </script>\n",
       "    </div>\n",
       "\n",
       "    </div>\n",
       "  </div>\n"
      ],
      "text/plain": [
       "   polarity                                               text  \\\n",
       "0         0  @switchfoot http://twitpic.com/2y1zl - Awww, t...   \n",
       "1         0  is upset that he can't update his Facebook by ...   \n",
       "2         0  @Kenichan I dived many times for the ball. Man...   \n",
       "3         0    my whole body feels itchy and like its on fire    \n",
       "4         0  @nationwideclass no, it's not behaving at all....   \n",
       "\n",
       "                                          clean_text  \n",
       "0  user url url that bummer shoulda got david car...  \n",
       "1  upset cant updat facebook text might cri resul...  \n",
       "2  user dive mani time ball manag save 50 rest go...  \n",
       "3                    whole bodi feel itchi like fire  \n",
       "4                      user notbehav im mad cant see  "
      ]
     },
     "execution_count": 12,
     "metadata": {},
     "output_type": "execute_result"
    }
   ],
   "source": [
    "df = pd.read_csv(\"/content/drive/MyDrive/Colab Notebooks/twitter_cleaned_dataset.csv\", encoding='latin-1')\n",
    "df.head()"
   ]
  },
  {
   "cell_type": "code",
   "execution_count": 13,
   "metadata": {
    "colab": {
     "base_uri": "https://localhost:8080/"
    },
    "executionInfo": {
     "elapsed": 636,
     "status": "ok",
     "timestamp": 1756663331329,
     "user": {
      "displayName": "Dev Tank",
      "userId": "14291956237008237666"
     },
     "user_tz": -330
    },
    "id": "Fq1UHtbCnVbK",
    "outputId": "b24853a1-3b1f-487a-a11c-e2d02e8048dc"
   },
   "outputs": [
    {
     "name": "stdout",
     "output_type": "stream",
     "text": [
      "<class 'pandas.core.frame.DataFrame'>\n",
      "Index: 1599701 entries, 0 to 1599999\n",
      "Data columns (total 3 columns):\n",
      " #   Column      Non-Null Count    Dtype \n",
      "---  ------      --------------    ----- \n",
      " 0   polarity    1599701 non-null  int64 \n",
      " 1   text        1599701 non-null  object\n",
      " 2   clean_text  1599701 non-null  object\n",
      "dtypes: int64(1), object(2)\n",
      "memory usage: 48.8+ MB\n",
      "None\n"
     ]
    }
   ],
   "source": [
    "df = df.dropna(subset=['clean_text'])\n",
    "print(df.info())"
   ]
  },
  {
   "cell_type": "code",
   "execution_count": 14,
   "metadata": {
    "colab": {
     "base_uri": "https://localhost:8080/"
    },
    "executionInfo": {
     "elapsed": 442,
     "status": "ok",
     "timestamp": 1756663331767,
     "user": {
      "displayName": "Dev Tank",
      "userId": "14291956237008237666"
     },
     "user_tz": -330
    },
    "id": "tOs1UFQFbuXP",
    "outputId": "78aac397-2452-4eb3-9a78-6dad91cc4a75"
   },
   "outputs": [
    {
     "name": "stdout",
     "output_type": "stream",
     "text": [
      "Train size: 1279760\n",
      "Test size: 319941\n"
     ]
    }
   ],
   "source": [
    "# Train-test split\n",
    "X_train, X_test, y_train, y_test = train_test_split(df['clean_text'], df['polarity'], test_size=0.2, random_state=42)\n",
    "\n",
    "print(\"Train size:\", len(X_train))\n",
    "print(\"Test size:\", len(X_test))"
   ]
  },
  {
   "cell_type": "code",
   "execution_count": 15,
   "metadata": {
    "colab": {
     "base_uri": "https://localhost:8080/"
    },
    "executionInfo": {
     "elapsed": 41991,
     "status": "ok",
     "timestamp": 1756663373761,
     "user": {
      "displayName": "Dev Tank",
      "userId": "14291956237008237666"
     },
     "user_tz": -330
    },
    "id": "qZs2K4-BcBK8",
    "outputId": "54b76269-9fcc-4732-f443-d13e9a9e8df6"
   },
   "outputs": [
    {
     "name": "stdout",
     "output_type": "stream",
     "text": [
      "TF-IDF shape (train): (1279760, 50000)\n",
      "TF-IDF shape (test): (319941, 50000)\n"
     ]
    }
   ],
   "source": [
    "# Vectorize text using TF-IDF\n",
    "vectorizer = TfidfVectorizer(max_features=50000, ngram_range=(1,2), sublinear_tf=True)\n",
    "X_train_tfidf = vectorizer.fit_transform(X_train)\n",
    "X_test_tfidf = vectorizer.transform(X_test)\n",
    "print(\"TF-IDF shape (train):\", X_train_tfidf.shape)\n",
    "print(\"TF-IDF shape (test):\", X_test_tfidf.shape)"
   ]
  },
  {
   "cell_type": "markdown",
   "metadata": {
    "id": "e8d027dd"
   },
   "source": [
    "## Model Training and Evaluation"
   ]
  },
  {
   "cell_type": "code",
   "execution_count": 16,
   "metadata": {
    "colab": {
     "base_uri": "https://localhost:8080/"
    },
    "executionInfo": {
     "elapsed": 309,
     "status": "ok",
     "timestamp": 1756663374055,
     "user": {
      "displayName": "Dev Tank",
      "userId": "14291956237008237666"
     },
     "user_tz": -330
    },
    "id": "kCVgryDpcFFv",
    "outputId": "409384ae-d887-47f5-a426-5be9abb202d2"
   },
   "outputs": [
    {
     "name": "stdout",
     "output_type": "stream",
     "text": [
      "Bernoulli Naive Bayes Accuracy: 0.7835132102481395\n"
     ]
    }
   ],
   "source": [
    "# Bernoulli Naive Bayes\n",
    "bnb = BernoulliNB()\n",
    "bnb.fit(X_train_tfidf, y_train)\n",
    "bnb_pred = bnb.predict(X_test_tfidf)\n",
    "print(\"Bernoulli Naive Bayes Accuracy:\", accuracy_score(y_test, bnb_pred))"
   ]
  },
  {
   "cell_type": "code",
   "execution_count": 17,
   "metadata": {
    "colab": {
     "base_uri": "https://localhost:8080/"
    },
    "executionInfo": {
     "elapsed": 51661,
     "status": "ok",
     "timestamp": 1756663425717,
     "user": {
      "displayName": "Dev Tank",
      "userId": "14291956237008237666"
     },
     "user_tz": -330
    },
    "id": "N4Xh4dFjcE7C",
    "outputId": "b703d48a-003a-42ac-f281-2a7ca28f5618"
   },
   "outputs": [
    {
     "name": "stdout",
     "output_type": "stream",
     "text": [
      "SVM Accuracy: 0.7998130905385681\n"
     ]
    }
   ],
   "source": [
    "# Support Vector Machine (LinearSVC)\n",
    "svm = LinearSVC(max_iter=5000, class_weight='balanced') # Increased max_iter and added class_weight\n",
    "svm.fit(X_train_tfidf, y_train)\n",
    "svm_pred = svm.predict(X_test_tfidf)\n",
    "print(\"SVM Accuracy:\", accuracy_score(y_test, svm_pred))"
   ]
  },
  {
   "cell_type": "code",
   "execution_count": 18,
   "metadata": {
    "colab": {
     "base_uri": "https://localhost:8080/"
    },
    "executionInfo": {
     "elapsed": 16085,
     "status": "ok",
     "timestamp": 1756663441788,
     "user": {
      "displayName": "Dev Tank",
      "userId": "14291956237008237666"
     },
     "user_tz": -330
    },
    "id": "XpmMBtMgcKW5",
    "outputId": "8cebee9c-ea78-40d0-8604-022c2b865da3"
   },
   "outputs": [
    {
     "name": "stdout",
     "output_type": "stream",
     "text": [
      "Logistic Regression Accuracy: 0.8022729190694534\n"
     ]
    }
   ],
   "source": [
    "# Logistic Regression\n",
    "logreg = LogisticRegression(max_iter=5000, penalty = 'l2', C = 2, class_weight='balanced') # Increased max_iter and added class_weight\n",
    "logreg.fit(X_train_tfidf, y_train)\n",
    "logreg_pred = logreg.predict(X_test_tfidf)\n",
    "print(\"Logistic Regression Accuracy:\", accuracy_score(y_test, logreg_pred))"
   ]
  },
  {
   "cell_type": "code",
   "execution_count": 19,
   "metadata": {
    "colab": {
     "base_uri": "https://localhost:8080/"
    },
    "executionInfo": {
     "elapsed": 51658,
     "status": "ok",
     "timestamp": 1756663493447,
     "user": {
      "displayName": "Dev Tank",
      "userId": "14291956237008237666"
     },
     "user_tz": -330
    },
    "id": "b8604ed8",
    "outputId": "563aceb3-51b4-42d5-fb33-581d94d09e2e"
   },
   "outputs": [
    {
     "name": "stdout",
     "output_type": "stream",
     "text": [
      "Random Forest Accuracy: 0.7299439584173332\n"
     ]
    }
   ],
   "source": [
    "from sklearn.ensemble import RandomForestClassifier\n",
    "import xgboost as xgb\n",
    "\n",
    "# Random Forest Classifier\n",
    "# Keeping similar parameters as before but adding class_weight\n",
    "rf = RandomForestClassifier(n_estimators=100, random_state=42, max_depth = 15 , n_jobs=-1, class_weight='balanced')\n",
    "rf.fit(X_train_tfidf, y_train)\n",
    "rf_pred = rf.predict(X_test_tfidf)\n",
    "print(\"Random Forest Accuracy:\", accuracy_score(y_test, rf_pred))"
   ]
  },
  {
   "cell_type": "code",
   "execution_count": 22,
   "metadata": {
    "colab": {
     "base_uri": "https://localhost:8080/"
    },
    "executionInfo": {
     "elapsed": 294622,
     "status": "ok",
     "timestamp": 1756665013313,
     "user": {
      "displayName": "Dev Tank",
      "userId": "14291956237008237666"
     },
     "user_tz": -330
    },
    "id": "98c4bc78",
    "outputId": "276674ee-877e-4d8b-fe8a-b1a05461ee05"
   },
   "outputs": [
    {
     "name": "stdout",
     "output_type": "stream",
     "text": [
      "XGBoost Accuracy: 0.765778690446051\n"
     ]
    }
   ],
   "source": [
    "# XGBoost Classifier\n",
    "# Using the scikit-learn API for ease of use with existing data\n",
    "xg = xgb.XGBClassifier(objective='binary:logistic', n_estimators=100, learning_rate=1, eval_metric='logloss', random_state=42, n_jobs=-1)\n",
    "\n",
    "xg.fit(X_train_tfidf, y_train)\n",
    "xg_pred = xg.predict(X_test_tfidf)\n",
    "print(\"XGBoost Accuracy:\", accuracy_score(y_test, xg_pred))"
   ]
  },
  {
   "cell_type": "code",
   "execution_count": null,
   "metadata": {
    "executionInfo": {
     "elapsed": 69,
     "status": "aborted",
     "timestamp": 1756664226367,
     "user": {
      "displayName": "Dev Tank",
      "userId": "14291956237008237666"
     },
     "user_tz": -330
    },
    "id": "2mnGPTNHRRcO"
   },
   "outputs": [],
   "source": [
    "# Optional: Detailed classification report for each model\n",
    "print(\"\\nBernoulliNB Classification Report:\\n\", classification_report(y_test, bnb_pred))\n",
    "print(\"\\nSVM Classification Report:\\n\", classification_report(y_test, svm_pred))\n",
    "print(\"\\nLogistic Regression Classification Report:\\n\", classification_report(y_test, logreg_pred))\n",
    "print(\"\\nXGBoost Classification Report:\\n\", classification_report(y_test, xg_pred))\n",
    "print(\"\\nRandom Forest Classification Report:\\n\", classification_report(y_test, rf_pred))"
   ]
  },
  {
   "cell_type": "markdown",
   "metadata": {
    "id": "64a5913a"
   },
   "source": [
    "## Making Predictions"
   ]
  },
  {
   "cell_type": "code",
   "execution_count": null,
   "metadata": {
    "executionInfo": {
     "elapsed": 72,
     "status": "aborted",
     "timestamp": 1756664226373,
     "user": {
      "displayName": "Dev Tank",
      "userId": "14291956237008237666"
     },
     "user_tz": -330
    },
    "id": "ltrtIXFxWBUS"
   },
   "outputs": [],
   "source": [
    "# Test on custom tweets\n",
    "sample_tweets = [\"I love this!\", \"I hate that!\", \"It was okay, not great.\"]\n",
    "sample_vec = vectorizer.transform(sample_tweets)\n",
    "\n",
    "print(\"\\nSample Predictions:\")\n",
    "print(\"BernoulliNB:\", bnb.predict(sample_vec))\n",
    "print(\"SVM:\", svm.predict(sample_vec))\n",
    "print(\"Logistic Regression:\", logreg.predict(sample_vec))\n",
    "print(\"Sample Predictions (Random Forest):\", rf.predict(sample_vec))\n",
    "print(\"Sample Predictions (XGBoost):\", xg.predict(sample_vec))"
   ]
  },
  {
   "cell_type": "code",
   "execution_count": null,
   "metadata": {
    "id": "4jGiXfISQ8fS"
   },
   "outputs": [],
   "source": []
  }
 ],
 "metadata": {
  "accelerator": "GPU",
  "colab": {
   "gpuType": "T4",
   "provenance": []
  },
  "kernelspec": {
   "display_name": "Python 3",
   "name": "python3"
  },
  "language_info": {
   "name": "python"
  }
 },
 "nbformat": 4,
 "nbformat_minor": 0
}
